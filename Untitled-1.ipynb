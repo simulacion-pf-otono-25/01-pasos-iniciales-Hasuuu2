{
 "cells": [
  {
   "cell_type": "code",
   "execution_count": null,
   "id": "aa7f6cbd",
   "metadata": {},
   "outputs": [],
   "source": []
  }
 ],
 "metadata": {
  "language_info": {
   "name": "python"
  }
 },
 "nbformat": 4,
 "nbformat_minor": 5
}
